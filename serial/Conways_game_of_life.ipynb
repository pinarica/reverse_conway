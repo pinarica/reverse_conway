{
 "cells": [
  {
   "cell_type": "markdown",
   "metadata": {},
   "source": [
    "---\n",
    "\n",
    "<a name=\"gol\"></a>\n",
    "#  Conways Game of Life\n",
    "\n",
    "<img src=\"https://upload.wikimedia.org/wikipedia/commons/e/e5/Gospers_glider_gun.gif\">\n",
    "\n",
    "[Glider Generator Example from Wikipedia](https://en.wikipedia.org/wiki/Conway%27s_Game_of_Life)\n",
    "\n",
    "> The Game of Life, also known simply as Life, is a cellular automaton devised by the British mathematician John Horton Conway in 1970.\n",
    "> \n",
    "> The game is a zero-player game, meaning that its evolution is determined by its initial state, requiring no further input. One interacts with the Game of Life by creating an initial configuration and observing how it evolves, or, for advanced players, by creating patterns with particular properties.\n",
    "> \n",
    "> The universe of the Game of Life is an infinite, two-dimensional orthogonal grid of square cells, each of which is in one of two possible states, alive or dead, (or populated and unpopulated, respectively). Every cell interacts with its eight neighbours, which are the cells that are horizontally, vertically, or diagonally adjacent. At each step in time, the following transitions occur:\n",
    "> \n",
    "> - Any live cell with fewer than two (<2) live neighbours dies, as if by underpopulation.\n",
    "> - Any live cell with two or three [2-3) live neighbours lives on to the next generation.\n",
    "> - Any live cell with more than three (>3) live neighbours dies, as if by overpopulation.\n",
    "> - Any dead cell with exactly three (3) live neighbours becomes a live cell, as if by reproduction.\n",
    "> \n",
    "> The initial pattern constitutes the seed of the system. The first generation is created by applying the above rules simultaneously to every cell in the seed; births and deaths occur simultaneously, and the discrete moment at which this happens is sometimes called a tick. Each generation is a pure function of the preceding one. The rules continue to be applied repeatedly to create further generations.\n",
    "\n",
    "The game of life is used as a model in a number of different scientific domains.  Example code can be found here: http://ernie55ernie.github.io/parallel%20programming/2016/03/25/openmp-game-of-life.html"
   ]
  },
  {
   "cell_type": "markdown",
   "metadata": {},
   "source": [
    "# Interesting examples from Conway's Game of life"
   ]
  },
  {
   "cell_type": "code",
   "execution_count": 1,
   "metadata": {},
   "outputs": [
    {
     "data": {
      "text/plain": [
       "<matplotlib.image.AxesImage at 0x7f72b9974cc0>"
      ]
     },
     "execution_count": 1,
     "metadata": {},
     "output_type": "execute_result"
    },
    {
     "data": {
      "image/png": "[encoded data removed]",
      "text/plain": [
       "<Figure size 432x288 with 1 Axes>"
      ]
     },
     "metadata": {
      "needs_background": "light"
     },
     "output_type": "display_data"
    }
   ],
   "source": [
    "%matplotlib inline\n",
    "\n",
    "import matplotlib.pylab as plt\n",
    "\n",
    "import numpy as np\n",
    "\n",
    "glider = np.zeros((5,5))\n",
    "glider[1,1] = 1;\n",
    "glider[3,1] = 1;\n",
    "glider[2,2] = 1;\n",
    "glider[3,2] = 1;\n",
    "glider[2,3] = 1;\n",
    "glider = glider.T\n",
    "plt.imshow(glider)"
   ]
  },
  {
   "cell_type": "code",
   "execution_count": 2,
   "metadata": {},
   "outputs": [
    {
     "data": {
      "text/plain": [
       "<matplotlib.image.AxesImage at 0x7f728e45de10>"
      ]
     },
     "execution_count": 2,
     "metadata": {},
     "output_type": "execute_result"
    },
    {
     "data": {
      "image/png": "[encoded data removed]",
      "text/plain": [
       "<Figure size 432x288 with 1 Axes>"
      ]
     },
     "metadata": {
      "needs_background": "light"
     },
     "output_type": "display_data"
    }
   ],
   "source": [
    "p = np.zeros((6,6))\n",
    "p[2:3,0] = 1;\n",
    "p[3,0:3] = 1;\n",
    "p[4,1] = 1\n",
    "p[5,2:5] = 1\n",
    "p[4,3] = 1\n",
    "p=p.T+p\n",
    "\n",
    "pulsar=np.zeros((15,15))\n",
    "pulsar[1:7,1:7] = p\n",
    "pulsar[8:14, 1:7] = np.flipud(p)\n",
    "pulsar[1:7, 8:14] = np.fliplr(p)\n",
    "pulsar[8:14, 8:14] = np.flipud(np.fliplr(p))\n",
    "plt.imshow(pulsar)"
   ]
  },
  {
   "cell_type": "code",
   "execution_count": 3,
   "metadata": {},
   "outputs": [
    {
     "data": {
      "text/plain": [
       "<matplotlib.image.AxesImage at 0x7f728e4542e8>"
      ]
     },
     "execution_count": 3,
     "metadata": {},
     "output_type": "execute_result"
    },
    {
     "data": {
      "image/png": "[encoded data removed]",
      "text/plain": [
       "<Figure size 432x288 with 1 Axes>"
      ]
     },
     "metadata": {
      "needs_background": "light"
     },
     "output_type": "display_data"
    }
   ],
   "source": [
    "spaceship = np.zeros((5,5))\n",
    "spaceship[1:3,0:2] = 1;\n",
    "spaceship[0:2,1:3] = 1;\n",
    "spaceship[3,1:4] = 1;\n",
    "spaceship[2,3] = 1;\n",
    "spaceship[4,2] = 1;\n",
    "spaceship = spaceship.T\n",
    "plt.imshow(spaceship)"
   ]
  },
  {
   "cell_type": "code",
   "execution_count": 4,
   "metadata": {},
   "outputs": [
    {
     "data": {
      "text/plain": [
       "<matplotlib.image.AxesImage at 0x7f728e3adf98>"
      ]
     },
     "execution_count": 4,
     "metadata": {},
     "output_type": "execute_result"
    },
    {
     "data": {
      "image/png": "[encoded data removed]",
      "text/plain": [
       "<Figure size 432x288 with 1 Axes>"
      ]
     },
     "metadata": {
      "needs_background": "light"
     },
     "output_type": "display_data"
    }
   ],
   "source": [
    "p = np.zeros((6,6))\n",
    "p[0:5,5] = 1;\n",
    "p[5,1:5] = 1;\n",
    "p[4,0] = 1\n",
    "p[2,1] = 1\n",
    "p[3,2:4] = 1\n",
    "p[1:3,3] = 1\n",
    "\n",
    "Fire=np.zeros((13,13))\n",
    "Fire[1:7,1:7] = p.T\n",
    "Fire[6:12, 1:7] = np.flipud(p.T)\n",
    "Fire[1:7, 6:12] = np.fliplr(p.T)\n",
    "Fire[6:12, 6:12] = np.flipud(np.fliplr(p.T))\n",
    "plt.imshow(Fire)"
   ]
  },
  {
   "cell_type": "code",
   "execution_count": 5,
   "metadata": {},
   "outputs": [
    {
     "data": {
      "text/plain": [
       "<matplotlib.image.AxesImage at 0x7f728e368160>"
      ]
     },
     "execution_count": 5,
     "metadata": {},
     "output_type": "execute_result"
    },
    {
     "data": {
      "image/png": "[encoded data removed]",
      "text/plain": [
       "<Figure size 432x288 with 1 Axes>"
      ]
     },
     "metadata": {
      "needs_background": "light"
     },
     "output_type": "display_data"
    }
   ],
   "source": [
    "p = np.zeros((4,3))\n",
    "p[0:2,0] = 1;\n",
    "p[0,1] = 1\n",
    "p[1,2] = 1\n",
    "p[3,2] = 1\n",
    "plt.imshow(p.T)\n",
    "\n",
    "Quad=np.zeros((7,7))\n",
    "Quad[0:3,0:4] = p.T\n",
    "Quad[4:8,3:7] = np.flipud(np.fliplr(p.T))\n",
    "plt.imshow(Quad)"
   ]
  },
  {
   "cell_type": "code",
   "execution_count": 133,
   "metadata": {},
   "outputs": [
    {
     "data": {
      "text/plain": [
       "(13, 13)"
      ]
     },
     "execution_count": 133,
     "metadata": {},
     "output_type": "execute_result"
    }
   ],
   "source": [
    "Fire.shape"
   ]
  },
  {
   "cell_type": "code",
   "execution_count": 136,
   "metadata": {},
   "outputs": [
    {
     "data": {
      "text/plain": [
       "<matplotlib.image.AxesImage at 0x7f408a4671d0>"
      ]
     },
     "execution_count": 136,
     "metadata": {},
     "output_type": "execute_result"
    },
    {
     "data": {
      "image/png": "[encoded data removed]",
      "text/plain": [
       "<Figure size 432x288 with 1 Axes>"
      ]
     },
     "metadata": {
      "needs_background": "light"
     },
     "output_type": "display_data"
    }
   ],
   "source": [
    "plate=np.zeros((50,50))\n",
    "plate[3:3+glider.shape[0], 3:3+glider.shape[1]] = glider\n",
    "plate[3:3+pulsar.shape[0], 30:30+pulsar.shape[1]] = pulsar\n",
    "plate[20:20+spaceship.shape[0], 3:3+spaceship.shape[1]] = spaceship\n",
    "plate[35:35+Fire.shape[0], 3:3+Fire.shape[1]] = Fire\n",
    "plate[35:35+Quad.shape[0], 30:30+Quad.shape[1]] = Quad\n",
    "plt.imshow(plate)"
   ]
  },
  {
   "cell_type": "code",
   "execution_count": 151,
   "metadata": {},
   "outputs": [],
   "source": [
    "def conway_out(plate, iterations=100):\n",
    "    out = f\"{plate.shape[0]} {iterations}\\n\"\n",
    "    for row in range(plate.shape[0]):\n",
    "        for col in range(plate.shape[1]):\n",
    "            out+='%d' % plate[row][col]\n",
    "        out+=\"\\n\"\n",
    "    out+=\"\\n\"\n",
    "    return out"
   ]
  },
  {
   "cell_type": "code",
   "execution_count": 152,
   "metadata": {},
   "outputs": [
    {
     "name": "stdout",
     "output_type": "stream",
     "text": [
      "50 100\n",
      "00000000000000000000000000000000000000000000000000\n",
      "00000000000000000000000000000000000000000000000000\n",
      "00000000000000000000000000000000000000000000000000\n",
      "00000000000000000000000000000000000000000000000000\n",
      "00001010000000000000000000000000011000001100000000\n",
      "00000110000000000000000000000000001100011000000000\n",
      "00000100000000000000000000000001001010101001000000\n",
      "00000000000000000000000000000001110110110111000000\n",
      "00000000000000000000000000000000101010101010000000\n",
      "00000000000000000000000000000000011100011100000000\n",
      "00000000000000000000000000000000000000000000000000\n",
      "00000000000000000000000000000000011100011100000000\n",
      "00000000000000000000000000000000101010101010000000\n",
      "00000000000000000000000000000001110110110111000000\n",
      "00000000000000000000000000000001001010101001000000\n",
      "00000000000000000000000000000000001100011000000000\n",
      "00000000000000000000000000000000011000001100000000\n",
      "00000000000000000000000000000000000000000000000000\n",
      "00000000000000000000000000000000000000000000000000\n",
      "00000000000000000000000000000000000000000000000000\n",
      "00001100000000000000000000000000000000000000000000\n",
      "00011110000000000000000000000000000000000000000000\n",
      "00011011000000000000000000000000000000000000000000\n",
      "00000110000000000000000000000000000000000000000000\n",
      "00000000000000000000000000000000000000000000000000\n",
      "00000000000000000000000000000000000000000000000000\n",
      "00000000000000000000000000000000000000000000000000\n",
      "00000000000000000000000000000000000000000000000000\n",
      "00000000000000000000000000000000000000000000000000\n",
      "00000000000000000000000000000000000000000000000000\n",
      "00000000000000000000000000000000000000000000000000\n",
      "00000000000000000000000000000000000000000000000000\n",
      "00000000000000000000000000000000000000000000000000\n",
      "00000000000000000000000000000000000000000000000000\n",
      "00000000000000000000000000000000000000000000000000\n",
      "00000000000000000000000000000011000000000000000000\n",
      "00000000101000000000000000000010000000000000000000\n",
      "00000010010010000000000000000001010000000000000000\n",
      "00000001010100000000000000000000000000000000000000\n",
      "00000111010111000000000000000000010100000000000000\n",
      "00000000010000000000000000000000000010000000000000\n",
      "00001111101111100000000000000000000110000000000000\n",
      "00000000010000000000000000000000000000000000000000\n",
      "00000111010111000000000000000000000000000000000000\n",
      "00000001010100000000000000000000000000000000000000\n",
      "00000010010010000000000000000000000000000000000000\n",
      "00000000101000000000000000000000000000000000000000\n",
      "00000000000000000000000000000000000000000000000000\n",
      "00000000000000000000000000000000000000000000000000\n",
      "00000000000000000000000000000000000000000000000000\n",
      "\n",
      "\n"
     ]
    }
   ],
   "source": [
    "out = conway_out(plate)\n",
    "print(out)"
   ]
  }
 ],
 "metadata": {
  "kernelspec": {
   "display_name": "Python 3",
   "language": "python",
   "name": "python3"
  },
  "language_info": {
   "codemirror_mode": {
    "name": "ipython",
    "version": 3
   },
   "file_extension": ".py",
   "mimetype": "text/x-python",
   "name": "python",
   "nbconvert_exporter": "python",
   "pygments_lexer": "ipython3",
   "version": "3.7.3"
  }
 },
 "nbformat": 4,
 "nbformat_minor": 2
}
